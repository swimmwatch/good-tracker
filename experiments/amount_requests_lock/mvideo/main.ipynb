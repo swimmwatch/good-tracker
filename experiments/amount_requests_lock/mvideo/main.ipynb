{
 "cells": [
  {
   "cell_type": "markdown",
   "source": [
    "Test how to get page. Here I find opportunity where I can get right response."
   ],
   "metadata": {
    "collapsed": false
   }
  },
  {
   "cell_type": "code",
   "execution_count": 40,
   "metadata": {
    "collapsed": true
   },
   "outputs": [
    {
     "data": {
      "text/plain": "<Response [200]>"
     },
     "execution_count": 40,
     "metadata": {},
     "output_type": "execute_result"
    }
   ],
   "source": [
    "import requests as req\n",
    "from pprint import pprint\n",
    "\n",
    "# test good url\n",
    "GOOD_URL = \"https://www.mvideo.ru/products/igrovaya-konsol-sony-playstation-5-digital-edition-40074203\"\n",
    "\n",
    "# test headers\n",
    "HEADERS = \"\"\"\n",
    "accept: text/html,application/xhtml+xml,application/xml;q=0.9,image/avif,image/webp,image/apng,*/*;q=0.8,application/signed-exchange;v=b3;q=0.9\n",
    "accept-encoding: gzip, deflate, br\n",
    "accept-language: en\n",
    "cache-control: max-age=0\n",
    "ssec-fetch-dest: document\n",
    "sec-fetch-mode: navigate\n",
    "sec-fetch-site: none\n",
    "sec-fetch-user: ?1\n",
    "upgrade-insecure-requests: 1\n",
    "user-agent: Mozilla/5.0 (X11; Linux x86_64) AppleWebKit/537.36 (KHTML, like Gecko) Chrome/88.0.4324.150 Safari/537.36\n",
    "\"\"\".strip()\n",
    "\n",
    "headers = HEADERS.split('\\n')\n",
    "headers = dict(map(lambda kw: kw.split(': ', maxsplit=1), headers))\n",
    "response = req.get(GOOD_URL, headers=headers)\n",
    "response"
   ]
  },
  {
   "cell_type": "markdown",
   "source": [
    "I want to find a minimum amount of headers where my requests will be successful."
   ],
   "metadata": {
    "collapsed": false
   }
  },
  {
   "cell_type": "code",
   "execution_count": null,
   "outputs": [],
   "source": [
    "from itertools import combinations\n",
    "\n",
    "right_headers_samples = []\n",
    "for i in range(len(headers)):\n",
    "    for batch in combinations(headers.items(), i + 1):\n",
    "        print(batch)\n",
    "        curr_headers = dict(batch)\n",
    "        res = req.get(GOOD_URL, headers=curr_headers)\n",
    "        if res.status_code == 200:\n",
    "            right_headers_samples.append(curr_headers)\n",
    "\n",
    "res = min(right_headers_samples, key=lambda x: len(x))\n",
    "pprint(res)"
   ],
   "metadata": {
    "collapsed": false,
    "pycharm": {
     "name": "#%%\n"
    }
   }
  }
 ],
 "metadata": {
  "kernelspec": {
   "display_name": "Python 3",
   "language": "python",
   "name": "python3"
  },
  "language_info": {
   "codemirror_mode": {
    "name": "ipython",
    "version": 2
   },
   "file_extension": ".py",
   "mimetype": "text/x-python",
   "name": "python",
   "nbconvert_exporter": "python",
   "pygments_lexer": "ipython2",
   "version": "2.7.6"
  }
 },
 "nbformat": 4,
 "nbformat_minor": 0
}